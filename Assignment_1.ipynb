{
 "cells": [
  {
   "cell_type": "markdown",
   "metadata": {
    "editable": false
   },
   "source": [
    "# Jupyter Assignment 1\n",
    "\n",
    "### Due Wednesday January 29 by 4 pm\n",
    "\n",
    "Late assignments will be penalised by 10% per day, and will not be accepted after 5 days.\n",
    "\n",
    "### This notebook will be what you submit for the assignment.  As with the tutorials you must download your solution and upload to turnitin.  \n",
    "\n",
    "###  All of this notebook will be graded, please take the time to make a final answer.  Ensure you have completely answered all of the questions, remove code that didn't run, or was not what was needed, add titles to your plots.\n",
    "\n",
    "### Some of the questions come from our textbook, if so I have indecated the question number.\n",
    "\n",
    "### If you need to add a code or markdown block you can use the `+` symbol above.  To remove a block use the scissors."
   ]
  },
  {
   "cell_type": "markdown",
   "metadata": {
    "editable": false
   },
   "source": [
    "### Question 1 :  (Textbook 1.6)   Stealers, study components.\n",
    "\n",
    "\n",
    "In a study of the relationship between socio-economic class and unethical\n",
    "behavior, 129 University of California undergraduates at Berkeley were asked to identify themselves as\n",
    "having low or high social-class by comparing themselves to others with the most (least) money, most (least)\n",
    "education, and most (least) respected jobs. They were also presented with a jar of individually wrapped\n",
    "candies and informed that the candies were for children in a nearby laboratory, but that they could take\n",
    "some if they wanted. After completing some unrelated tasks, participants reported the number of candies\n",
    "they had taken.\n",
    "\n",
    "\n",
    "(a) Identify the main research question of the study.\n",
    "\n",
    "(b) Who are the subjects in this study, and how many are included?\n",
    "\n",
    "(c) The study found that students who were identiffed as upper-class took more candy than others. How\n",
    "many variables were recorded for each subject in the study in order to conclude these findings? State\n",
    "the variables and their types."
   ]
  },
  {
   "cell_type": "markdown",
   "metadata": {},
   "source": [
    "Answer 1:"
   ]
  },
  {
   "cell_type": "markdown",
   "metadata": {
    "editable": false
   },
   "source": [
    "### Question 2: (textbook 1.26)   Family size. \n",
    "\n",
    "Suppose we want to estimate household size, where a \"household\" is defined as people\n",
    "living together in the same dwelling, and sharing living accommodations. If we select students at random\n",
    "at an elementary school and ask them what their family size is, will this be a good measure of household\n",
    "size? Or will our average be biased? If so, will it overestimate or underestimate the true value?\n",
    "\n",
    "Explain why!"
   ]
  },
  {
   "cell_type": "markdown",
   "metadata": {},
   "source": [
    "Answer 2:"
   ]
  },
  {
   "cell_type": "markdown",
   "metadata": {
    "editable": false
   },
   "source": [
    "### The next questions are all about one data set called `sleep`\n",
    "\n",
    "Run the code below to load the data."
   ]
  },
  {
   "cell_type": "code",
   "execution_count": null,
   "metadata": {
    "editable": false
   },
   "outputs": [],
   "source": [
    "sleep<- read.csv(\"https://www.openintro.org/data/csv/mammals.csv\") "
   ]
  },
  {
   "cell_type": "markdown",
   "metadata": {
    "editable": false
   },
   "source": [
    "### About the data:\n",
    "\n",
    "This data is avaliable at `openintro.org`.\n",
    "\n",
    "\n",
    "This data set includes data for 39 species of mammals distributed over 13 orders. \n",
    "\n",
    "\n",
    "The source of the data is  http://www.statsci.org/data/general/sleep.txt.\n",
    "\n",
    "The variables are:\n",
    "\n",
    "- `species` - Species of mammals\n",
    "- `body_wt` - Total body weight of the mammal (in kg)\n",
    "- `brain_wt` - Brain weight of the mammal (in kg)\n",
    "- `non_dreaming` - Number of hours of non dreaming sleep\n",
    "- `dreaming` - Number of hours of dreaming sleep\n",
    "- `total_sleep` - Total number of hours of sleep\n",
    "- `life_span` - Life span (in years)\n",
    "- `gestation` - Gestation time (in days)\n",
    "- `predation` - An index of how likely the mammal is to be preyed upon. 1 = least likely to be preyed upon. 5 = most likely to be preyed upon.\n",
    "- `exposure` - An index of the how exposed the mammal is during sleep. 1 = least exposed (e.g., sleeps in a well-protected den). 5 = most exposed.\n",
    "- `danger` - An index of how much danger the mammal faces from other animals. This index is based upon Predation and Exposure. 1 = least danger from other animals. 5 = most danger from other animals."
   ]
  },
  {
   "cell_type": "markdown",
   "metadata": {
    "editable": false
   },
   "source": [
    "### Question 3:\n",
    "\n",
    "a. What does each row in the data matrix represent.\n",
    "\n",
    "b. How many participants were included in the survey?\n",
    "\n",
    "c. For each variable in the study indicate if the variable is numerical or categorical."
   ]
  },
  {
   "cell_type": "code",
   "execution_count": null,
   "metadata": {},
   "outputs": [],
   "source": []
  },
  {
   "cell_type": "code",
   "execution_count": null,
   "metadata": {},
   "outputs": [],
   "source": []
  },
  {
   "cell_type": "markdown",
   "metadata": {},
   "source": [
    "Answer 3:\n",
    "\n"
   ]
  },
  {
   "cell_type": "markdown",
   "metadata": {
    "editable": false
   },
   "source": [
    "### Question 4:\n",
    "\n",
    "Describe the distribution of the variable `dreaming`.\n",
    "\n",
    "Your answer must include at least one plot, and you should disuss the center, spread and shape of the distribution.\n",
    "\n",
    "Are there any outliers?  "
   ]
  },
  {
   "cell_type": "code",
   "execution_count": null,
   "metadata": {},
   "outputs": [],
   "source": []
  },
  {
   "cell_type": "code",
   "execution_count": null,
   "metadata": {},
   "outputs": [],
   "source": []
  },
  {
   "cell_type": "markdown",
   "metadata": {},
   "source": [
    "Answer 4:"
   ]
  },
  {
   "cell_type": "markdown",
   "metadata": {
    "editable": false
   },
   "source": [
    "### Question 5:\n",
    "\n",
    "Does there appear to be a relationship between `dreaming` and `predation`.\n",
    "\n",
    "Justify your answer with both a plot and an explanation."
   ]
  },
  {
   "cell_type": "code",
   "execution_count": null,
   "metadata": {},
   "outputs": [],
   "source": []
  },
  {
   "cell_type": "code",
   "execution_count": null,
   "metadata": {},
   "outputs": [],
   "source": []
  },
  {
   "cell_type": "markdown",
   "metadata": {},
   "source": [
    "Answer 5:"
   ]
  },
  {
   "cell_type": "markdown",
   "metadata": {},
   "source": [
    "### Question 6:\n",
    "\n",
    "Does there appear to be a relationship between `gestation` and `predation`.\n",
    "\n",
    "Justify your answer with both a plot and an explanation."
   ]
  },
  {
   "cell_type": "code",
   "execution_count": null,
   "metadata": {},
   "outputs": [],
   "source": []
  },
  {
   "cell_type": "code",
   "execution_count": null,
   "metadata": {},
   "outputs": [],
   "source": []
  },
  {
   "cell_type": "markdown",
   "metadata": {},
   "source": [
    "Answer 6 :"
   ]
  },
  {
   "cell_type": "markdown",
   "metadata": {
    "editable": false
   },
   "source": [
    "### Question 7 (Textbook 2.14)   Facebook friends.\n",
    "\n",
    "Facebook data indicate that 50% of Facebook users have 100 or more friends,\n",
    "and that the average friend count of users is 190. What do these findings suggest about the shape of the\n",
    "distribution of number of friends of Facebook users?"
   ]
  },
  {
   "cell_type": "markdown",
   "metadata": {},
   "source": [
    "Answer 7: "
   ]
  },
  {
   "cell_type": "markdown",
   "metadata": {
    "editable": false
   },
   "source": [
    "### Make sure you have answered all of the questions with complete explanations.\n",
    "\n",
    "### When you are done please download a copy as HTML and upload your response to turnitin."
   ]
  },
  {
   "cell_type": "markdown",
   "metadata": {
    "editable": false
   },
   "source": [
    "---\n",
    "\n",
    "Some of these questions come from `openintrostatistics` this book and the data set is avaliable at `openintro.org`"
   ]
  }
 ],
 "metadata": {
  "celltoolbar": "Edit Metadata",
  "kernelspec": {
   "display_name": "R",
   "language": "R",
   "name": "ir"
  },
  "language_info": {
   "codemirror_mode": "r",
   "file_extension": ".r",
   "mimetype": "text/x-r-source",
   "name": "R",
   "pygments_lexer": "r",
   "version": "3.6.1"
  }
 },
 "nbformat": 4,
 "nbformat_minor": 2
}
