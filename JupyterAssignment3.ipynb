{
 "cells": [
  {
   "cell_type": "markdown",
   "metadata": {
    "editable": false
   },
   "source": [
    "### Jupyter Assignment 3\n",
    "\n",
    "### Due Friday March 14 4pm\n",
    "\n",
    "Late assignments will be penalised by 10% per day, and will not be accepted after 5 days.\n",
    "\n",
    "### This notebook will be what you submit for the assignment.  As with the tutorials you must download your solution and upload to moodle.  \n",
    "\n",
    "###  All of this notebook will be graded, please take the time to make a final answer.  Ensure you have completely answered all of the questions, remove code that didn't run, or was not what was needed.\n",
    "\n",
    "### Some of the questions come from our textbook, if so I have indecated the question number.\n",
    "\n",
    "### If you need to add a code or markdown block you can use the `+` symbol above.  To remove a block use the scissors.\n",
    "\n",
    "### I have included the normalplot code below, if you want to use it don't forget to run the code."
   ]
  },
  {
   "cell_type": "code",
   "execution_count": 1,
   "metadata": {
    "editable": false
   },
   "outputs": [],
   "source": [
    "normalplot<-function(m,sd,region=0){\n",
    "  x<-seq(m-(3.5)*sd,m+(3.5)*sd,length=1000)\n",
    "  y<-dnorm(x,m,sd)\n",
    "  plot(x,y,type=\"l\",xlab=\"\",ylab=\"\", bty=\"n\", yaxt=\"n\")\n",
    "  h <- dnorm(m,m,sd)\n",
    "  z<-x[x>region[1]]\n",
    "  z<-z[z<region[2]]\n",
    "  polygon(c(region[1],z,region[2]),\n",
    "          c(0,dnorm(z,m,sd),0),col=\"gray\")\n",
    "  abline(v=m)\n",
    "  abline(h=0)}"
   ]
  },
  {
   "cell_type": "markdown",
   "metadata": {
    "editable": false
   },
   "source": [
    "### Question 1  ( Open Intro 4.4 and 4.6  Triathlon times, Part I. and II.)\n",
    "\n",
    "In triathlons, it is common for racers to be placed into age and gender groups.\n",
    "\n",
    "\n",
    "Friends Leo and Mary both completed the Hermosa Beach Triathlon, where Leo competed in the Men, Ages\n",
    "30 - 34 group while Mary competed in the Women, Ages 25 - 29 group. Leo completed the race in 1:22:28\n",
    "(4948 seconds), while Mary completed the race in 1:31:53 (5513 seconds). Obviously Leo finished faster,\n",
    "but they are curious about how they did within their respective groups. Can you help them? Here is some\n",
    "information on the performance of their groups:\n",
    "\n",
    "- The finishing times of the Men, Ages 30 - 34 group has a mean of 4313 seconds with a standard\n",
    "deviation of 583 seconds.\n",
    "-  The finishing times of the Women, Ages 25 - 29 group has a mean of 5261 seconds with a standard\n",
    "deviation of 807 seconds.\n",
    "-  The distributions of finishing times for both groups are approximately Normal.\n",
    "Remember: a better performance corresponds to a faster finish.\n",
    "\n",
    "\n",
    "#### a. Write down the short-hand for these two normal distributions."
   ]
  },
  {
   "cell_type": "markdown",
   "metadata": {},
   "source": [
    "Answer a:"
   ]
  },
  {
   "cell_type": "markdown",
   "metadata": {
    "editable": false
   },
   "source": [
    "#### b.  What are the Z-scores for Leo's and Mary's finishing times? What do these Z-scores tell you?"
   ]
  },
  {
   "cell_type": "code",
   "execution_count": null,
   "metadata": {},
   "outputs": [],
   "source": []
  },
  {
   "cell_type": "code",
   "execution_count": null,
   "metadata": {},
   "outputs": [],
   "source": []
  },
  {
   "cell_type": "markdown",
   "metadata": {},
   "source": [
    "Answer b:"
   ]
  },
  {
   "cell_type": "markdown",
   "metadata": {
    "editable": false
   },
   "source": [
    "#### c.  Did Leo or Mary rank better in their respective groups? Explain your reasoning."
   ]
  },
  {
   "cell_type": "markdown",
   "metadata": {},
   "source": [
    "Answer c:"
   ]
  },
  {
   "cell_type": "markdown",
   "metadata": {
    "editable": false
   },
   "source": [
    "#### d.   What percent of the triathletes did Leo finish faster than in his group?"
   ]
  },
  {
   "cell_type": "code",
   "execution_count": null,
   "metadata": {},
   "outputs": [],
   "source": []
  },
  {
   "cell_type": "code",
   "execution_count": null,
   "metadata": {},
   "outputs": [],
   "source": []
  },
  {
   "cell_type": "markdown",
   "metadata": {},
   "source": [
    "Answer d:"
   ]
  },
  {
   "cell_type": "markdown",
   "metadata": {
    "editable": false
   },
   "source": [
    "#### e. What percent of the triathletes did Mary finish faster than in her group?"
   ]
  },
  {
   "cell_type": "code",
   "execution_count": null,
   "metadata": {},
   "outputs": [],
   "source": []
  },
  {
   "cell_type": "code",
   "execution_count": null,
   "metadata": {},
   "outputs": [],
   "source": []
  },
  {
   "cell_type": "markdown",
   "metadata": {},
   "source": [
    "Answer e:"
   ]
  },
  {
   "cell_type": "markdown",
   "metadata": {
    "editable": false
   },
   "source": [
    "#### f. If the distributions of finishing times are not nearly normal, would your answers to parts (b) - (e) change?  Explain your reasoning."
   ]
  },
  {
   "cell_type": "markdown",
   "metadata": {},
   "source": [
    "Answer f:"
   ]
  },
  {
   "cell_type": "markdown",
   "metadata": {
    "editable": false
   },
   "source": [
    "#### g.  The cutoff time for the fastest 5% of athletes in the men's group, i.e. those who took the shortest 5%of time to finish."
   ]
  },
  {
   "cell_type": "code",
   "execution_count": null,
   "metadata": {},
   "outputs": [],
   "source": []
  },
  {
   "cell_type": "code",
   "execution_count": null,
   "metadata": {},
   "outputs": [],
   "source": []
  },
  {
   "cell_type": "markdown",
   "metadata": {},
   "source": [
    "Answer g:"
   ]
  },
  {
   "cell_type": "markdown",
   "metadata": {
    "editable": false
   },
   "source": [
    "#### h.  The cutoff time for the slowest 10% of athletes in the women's group."
   ]
  },
  {
   "cell_type": "code",
   "execution_count": null,
   "metadata": {},
   "outputs": [],
   "source": []
  },
  {
   "cell_type": "code",
   "execution_count": null,
   "metadata": {},
   "outputs": [],
   "source": []
  },
  {
   "cell_type": "markdown",
   "metadata": {},
   "source": [
    "Answer h:"
   ]
  },
  {
   "cell_type": "markdown",
   "metadata": {
    "editable": false
   },
   "source": [
    "### For parts g and h you must include a plot shading the appropriate area."
   ]
  },
  {
   "cell_type": "markdown",
   "metadata": {
    "editable": false
   },
   "source": [
    "## Question 2 (OpenIntro 6.8)  Life rating in Greece. \n",
    "\n",
    "Greece has faced a severe economic crisis since the end of 2009. A Gallup poll\n",
    "surveyed 1,000 randomly sampled Greeks in 2011 and found that 25% of them said they would rate their\n",
    "lives poorly enough to be considered suffering\".\n",
    "\n",
    "\n",
    "#### (a) Describe the population parameter of interest. What is the value of the point estimate of this parameter?"
   ]
  },
  {
   "cell_type": "markdown",
   "metadata": {},
   "source": [
    "Answer a:"
   ]
  },
  {
   "cell_type": "markdown",
   "metadata": {
    "editable": false
   },
   "source": [
    "#### (b) Check if the conditions required for constructing a confidence interval based on these data are met."
   ]
  },
  {
   "cell_type": "code",
   "execution_count": null,
   "metadata": {},
   "outputs": [],
   "source": []
  },
  {
   "cell_type": "markdown",
   "metadata": {},
   "source": [
    "Answer b:"
   ]
  },
  {
   "cell_type": "markdown",
   "metadata": {
    "editable": false
   },
   "source": [
    "#### (c) Construct a 95% confidence interval for the proportion of Greeks who are suffering\"."
   ]
  },
  {
   "cell_type": "code",
   "execution_count": null,
   "metadata": {},
   "outputs": [],
   "source": []
  },
  {
   "cell_type": "markdown",
   "metadata": {},
   "source": [
    "Answer c:"
   ]
  },
  {
   "cell_type": "markdown",
   "metadata": {
    "editable": false
   },
   "source": [
    "#### (d) Without doing any calculations, describe what would happen to the confidence interval if we decided to\n",
    "use a higher confidence level."
   ]
  },
  {
   "cell_type": "markdown",
   "metadata": {},
   "source": [
    "Answer d:"
   ]
  },
  {
   "cell_type": "markdown",
   "metadata": {
    "editable": false
   },
   "source": [
    "#### (e) Without doing any calculations, describe what would happen to the confidence interval if we used a\n",
    "larger sample."
   ]
  },
  {
   "cell_type": "markdown",
   "metadata": {},
   "source": [
    "Answer e:"
   ]
  },
  {
   "cell_type": "markdown",
   "metadata": {
    "editable": false
   },
   "source": [
    "## Question 3 (OpenIntro 6.10) Legalization of marijuana, Part I.\n",
    "\n",
    "The General Social Survey asked 1,578 US residents: Do you\n",
    "think the use of marijuana should be made legal, or not?\" 61% of the respondents said it should be made\n",
    "legal.\n",
    "\n",
    "\n",
    "#### (a) Is 61% a sample statistic or a population parameter? Explain."
   ]
  },
  {
   "cell_type": "markdown",
   "metadata": {},
   "source": [
    "Answer a:"
   ]
  },
  {
   "cell_type": "markdown",
   "metadata": {
    "editable": false
   },
   "source": [
    "#### (b) Construct a 95% confidence interval for the proportion of US residents who think marijuana should be made legal, and interpret it in the context of the data."
   ]
  },
  {
   "cell_type": "code",
   "execution_count": null,
   "metadata": {},
   "outputs": [],
   "source": []
  },
  {
   "cell_type": "markdown",
   "metadata": {},
   "source": [
    "Answer b:"
   ]
  },
  {
   "cell_type": "markdown",
   "metadata": {
    "editable": false
   },
   "source": [
    "#### (c) A critic points out that this 95% confidence interval is only accurate if the statistic follows a normaldistribution, or if the normal model is a good approximation. Is this true for these data? Explain.\n",
    "\n",
    "#### (Include a plot of the sampling distribution for the statistic)"
   ]
  },
  {
   "cell_type": "code",
   "execution_count": null,
   "metadata": {},
   "outputs": [],
   "source": []
  },
  {
   "cell_type": "markdown",
   "metadata": {},
   "source": [
    "Answer c:"
   ]
  },
  {
   "cell_type": "markdown",
   "metadata": {
    "editable": false
   },
   "source": [
    "#### (d) A news piece on this survey's findings states, Majority of Americans think marijuana should be legalized.\" Based on your confidence interval, is this news piece's statement justified?"
   ]
  },
  {
   "cell_type": "markdown",
   "metadata": {},
   "source": [
    "Answer d:"
   ]
  }
 ],
 "metadata": {
  "kernelspec": {
   "display_name": "R",
   "language": "R",
   "name": "ir"
  },
  "language_info": {
   "codemirror_mode": "r",
   "file_extension": ".r",
   "mimetype": "text/x-r-source",
   "name": "R",
   "pygments_lexer": "r",
   "version": "3.6.1"
  }
 },
 "nbformat": 4,
 "nbformat_minor": 2
}
