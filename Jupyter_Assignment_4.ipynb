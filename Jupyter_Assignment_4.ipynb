{
 "cells": [
  {
   "cell_type": "markdown",
   "metadata": {
    "editable": false
   },
   "source": [
    "# Jupyter Assignment 4\n",
    "\n",
    "### Due Friday March 27  4pm\n",
    "\n",
    "Late assignments will be penalised by 10% per day, and will not be accepted after 5 days.\n",
    "\n",
    "### This notebook will be what you submit for the assignment.  As with the tutorials you must download your solution and upload to moodle.  \n",
    "\n",
    "###  All of this notebook will be graded, please take the time to make a final answer.  Ensure you have completely answered all of the questions, remove code that didn't run, or was not what was needed.\n",
    "\n",
    "### These questions are all from our textbook, I have included their numbers.\n",
    "\n",
    "### If you need to add a code or markdown block you can use the `+` symbol above.  To remove a block use the scissors.\n",
    "\n",
    "### I have included the normalplot code below, if you want to use it don't forget to run the code."
   ]
  },
  {
   "cell_type": "code",
   "execution_count": null,
   "metadata": {
    "editable": false
   },
   "outputs": [],
   "source": [
    "normalplot<-function(m,sd,region=0){\n",
    "  x<-seq(m-(3.5)*sd,m+(3.5)*sd,length=1000)\n",
    "  y<-dnorm(x,m,sd)\n",
    "  plot(x,y,type=\"l\",xlab=\"\",ylab=\"\", bty=\"n\", yaxt=\"n\")\n",
    "  h <- dnorm(m,m,sd)\n",
    "  z<-x[x>region[1]]\n",
    "  z<-z[z<region[2]]\n",
    "  polygon(c(region[1],z,region[2]),\n",
    "          c(0,dnorm(z,m,sd),0),col=\"gray\")\n",
    "  abline(v=m)\n",
    "  abline(h=0)}"
   ]
  },
  {
   "cell_type": "markdown",
   "metadata": {
    "editable": false
   },
   "source": [
    "### Question 1  ( Open Intro 6.12 and 6.14   Is college worth it? Part I. and II.)\n",
    "\n",
    " Among a simple random sample of 331 American adults who do not have\n",
    "a four-year college degree and are not currently enrolled in school, 48% said they decided not to go to college because they could not afford school.\n",
    "\n",
    "\n",
    " (a) A newspaper article states that only a minority of the Americans who decide not to go to college do so because they cannot afford it and uses the point estimate from this survey as evidence. Conduct a hypothesis test to determine if these data provide strong evidence supporting this statement."
   ]
  },
  {
   "cell_type": "markdown",
   "metadata": {},
   "source": [
    "Answer 1 a)  \n",
    "\n"
   ]
  },
  {
   "cell_type": "markdown",
   "metadata": {
    "editable": false
   },
   "source": [
    "(b) Would you expect a conffdence interval for the proportion of American adults who decide not to go to\n",
    "college because they cannot afford it to include 0.5? Explain."
   ]
  },
  {
   "cell_type": "markdown",
   "metadata": {},
   "source": [
    "Answer 1b)  \n",
    "\n"
   ]
  },
  {
   "cell_type": "markdown",
   "metadata": {
    "editable": false
   },
   "source": [
    "(c) Calculate a 90% confidence interval for the proportion of Americans who decide to not go to college\n",
    "because they cannot afford it, and interpret the interval in context."
   ]
  },
  {
   "cell_type": "markdown",
   "metadata": {},
   "source": [
    "Answer 1 c) \n"
   ]
  },
  {
   "cell_type": "markdown",
   "metadata": {
    "editable": false
   },
   "source": [
    "(d) Suppose we wanted the margin of error for the 90% confidence level to be about 1.5%. How large of a\n",
    "survey would you recommend?"
   ]
  },
  {
   "cell_type": "markdown",
   "metadata": {},
   "source": [
    "Answer 1 d) "
   ]
  },
  {
   "cell_type": "markdown",
   "metadata": {
    "editable": false
   },
   "source": [
    "### Questions 2 (OpenIntro 7.12 )   Auto exhaust and lead exposure. \n",
    "\n",
    "Researchers interested in lead exposure due to car exhaust sampled\n",
    "the blood of 52 police officers subjected to constant inhalation of automobile exhaust fumes while working\n",
    "traffic enforcement in a primarily urban environment. The blood samples of these officers had an average\n",
    "lead concentration of 124.32 $\\mu$g/l and a SD of 37.74 $\\mu$g/l; a previous study of individuals from a nearby\n",
    "suburb, with no history of exposure, found an average blood level concentration of 35 $\\mu$g/l.9"
   ]
  },
  {
   "cell_type": "markdown",
   "metadata": {
    "editable": false
   },
   "source": [
    "(a) Write down the hypotheses that would be appropriate for testing if the police officers appear to have\n",
    "been exposed to a different concentration of lead."
   ]
  },
  {
   "cell_type": "markdown",
   "metadata": {},
   "source": [
    "Answer 1a)"
   ]
  },
  {
   "cell_type": "markdown",
   "metadata": {
    "editable": false
   },
   "source": [
    "(b) Explicitly state and check all conditions necessary for inference on these data."
   ]
  },
  {
   "cell_type": "markdown",
   "metadata": {},
   "source": [
    "Answer 2b) \n",
    "\n"
   ]
  },
  {
   "cell_type": "markdown",
   "metadata": {
    "editable": false
   },
   "source": [
    "(c) Regardless of your answers in part (b), test the hypothesis that the downtown police officers have a\n",
    "higher lead exposure than the group in the previous study. Interpret your results in context."
   ]
  },
  {
   "cell_type": "markdown",
   "metadata": {},
   "source": [
    "Answer 2 c)"
   ]
  },
  {
   "cell_type": "markdown",
   "metadata": {
    "editable": false
   },
   "source": [
    "### Question 3  (Open Office 7.14 SAT scores. )\n",
    "\n",
    "The standard deviation of SAT scores for students at a particular Ivy League college is\n",
    "250 points. Two statistics students, Raina and Luke, want to estimate the average SAT score of students at\n",
    "this college as part of a class project. They want their margin of error to be no more than 25 points.\n",
    "\n",
    "\n",
    "(a) Raina wants to use a 90% confidence interval. How large a sample should she collect?"
   ]
  },
  {
   "cell_type": "markdown",
   "metadata": {},
   "source": [
    "Answer 3 a) \n",
    "\n"
   ]
  },
  {
   "cell_type": "markdown",
   "metadata": {
    "editable": false
   },
   "source": [
    "(b) Luke wants to use a 99% confidence interval. Without calculating the actual sample size, determine\n",
    "whether his sample should be larger or smaller than Raina's, and explain your reasoning."
   ]
  },
  {
   "cell_type": "markdown",
   "metadata": {},
   "source": [
    "Answer 3 b)  \n"
   ]
  },
  {
   "cell_type": "markdown",
   "metadata": {
    "editable": false
   },
   "source": [
    "(c) Calculate the minimum required sample size for Luke."
   ]
  },
  {
   "cell_type": "markdown",
   "metadata": {},
   "source": [
    "Answer 3 c)"
   ]
  }
 ],
 "metadata": {
  "kernelspec": {
   "display_name": "R",
   "language": "R",
   "name": "ir"
  },
  "language_info": {
   "codemirror_mode": "r",
   "file_extension": ".r",
   "mimetype": "text/x-r-source",
   "name": "R",
   "pygments_lexer": "r",
   "version": "3.6.1"
  }
 },
 "nbformat": 4,
 "nbformat_minor": 2
}
