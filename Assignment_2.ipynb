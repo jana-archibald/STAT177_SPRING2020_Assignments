{
 "cells": [
  {
   "cell_type": "markdown",
   "metadata": {
    "editable": false
   },
   "source": [
    "# Jupyter Assignment 2\n",
    "\n",
    "### Due Wednesday February 12 by 4 pm\n",
    "\n",
    "Late assignments will be penalised by 10% per day, and will not be accepted after 5 days.\n",
    "\n",
    "### This notebook will be what you submit for the assignment.  As with the tutorials you must download your solution and upload to turnitin.  \n",
    "\n",
    "###  All of this notebook will be graded, please take the time to make a final answer.  Ensure you have completely answered all of the questions, remove code that didn't run, or was not what was needed, add titles to your plots.\n",
    "\n",
    "### Some of the questions come from our textbook, if so I have indicated the question number.\n",
    "\n",
    "### If you need to add a code or markdown block you can use the `+` symbol above.  To remove a block use the scissors."
   ]
  },
  {
   "cell_type": "markdown",
   "metadata": {
    "editable": false
   },
   "source": [
    "### The first 2 questions are all about one data set called `ask`\n",
    "\n",
    "Run the code below to load the data."
   ]
  },
  {
   "cell_type": "code",
   "execution_count": null,
   "metadata": {
    "editable": false
   },
   "outputs": [],
   "source": [
    "ask<- read.csv(\"https://www.openintro.org/data/csv/ask.csv\") "
   ]
  },
  {
   "cell_type": "markdown",
   "metadata": {
    "editable": false
   },
   "source": [
    "### About the data:\n",
    "\n",
    "This data is avaliable at `openintro.org`.\n",
    "\n",
    "In this experiment, each individual was asked to be a seller of an iPod. The participant was told that the iPod they were selling had frozen twice in the past inexplicably but otherwise worked fine. The prospective buyer starts off and then asks one of three final questions, depending on the seller's treatment group.\n",
    "\n",
    "\n",
    "The three possible questions: \n",
    "- General: What can you tell me about it? \n",
    "- Positive Assumption: It doesn't have any problems, does it? \n",
    "- Negative Assumption: What problems does it have? \n",
    "\n",
    "The outcome variable is whether or not the participant discloses or hides the problem with the iPod.\n",
    "\n",
    "\n",
    "The source of the data is  Minson JA, Ruedy NE, Schweitzer ME. There *is* such a thing as a stupid question: Question disclosure in strategic communication.\n",
    "\n",
    "The variables are:\n",
    "\n",
    "-  `question_class` - The type of question: `general`, `pos_assumption`, and `neg_assumption`.\n",
    "-  `question` - The question corresponding to the `question.class`\n",
    "-  `response` - The classified response from the seller, either `disclose` or `hide`.\n"
   ]
  },
  {
   "cell_type": "markdown",
   "metadata": {
    "editable": false
   },
   "source": [
    "## Question 1\n",
    "\n",
    "Is there a relationship between the variables `question` and `response`.\n",
    "\n",
    "Your answer should include a plot (with title), and a written portion explaining your conclusion."
   ]
  },
  {
   "cell_type": "code",
   "execution_count": null,
   "metadata": {},
   "outputs": [],
   "source": []
  },
  {
   "cell_type": "code",
   "execution_count": null,
   "metadata": {},
   "outputs": [],
   "source": []
  },
  {
   "cell_type": "markdown",
   "metadata": {},
   "source": [
    "### Answer 1:\n",
    "\n",
    "(type here)"
   ]
  },
  {
   "cell_type": "markdown",
   "metadata": {
    "editable": false
   },
   "source": [
    "## Question 2\n",
    "\n",
    "What proportion of the participants who were asked \"What problems does it have?\" disclosed the problems.  (You should give a precise answer, and not estimate from a plot)"
   ]
  },
  {
   "cell_type": "code",
   "execution_count": null,
   "metadata": {},
   "outputs": [],
   "source": []
  },
  {
   "cell_type": "markdown",
   "metadata": {},
   "source": [
    "### Answer 2:\n",
    "\n",
    "(type here)"
   ]
  },
  {
   "cell_type": "markdown",
   "metadata": {
    "editable": false
   },
   "source": [
    "## Question  3  (Openintro 2.26) \n",
    "### Heart transplants. \n",
    "\n",
    "\n",
    "The Stanford University Heart Transplant Study was conducted to determine\n",
    "whether an experimental heart transplant program increased lifespan. Each patient entering the program\n",
    "was designated an official heart transplant candidate, meaning that he was gravely ill and would most likely\n",
    "benefit from a new heart. Some patients got a transplant and some did not. The variable transplant\n",
    "indicates which group the patients were in; patients in the treatment group got a transplant and those in the\n",
    "control group did not. Of the 34 patients in the control group, 30 died. Of the 69 people in the treatment\n",
    "group, 45 died. Another variable called survived was used to indicate whether or not the patient was alive\n",
    "at the end of the study.\n",
    "\n",
    "### Run the code below, (or look in the textbook) to see the plots.\n",
    "\n",
    "- (a) Based on the mosaic plot, is survival independent of whether or not the patient got a transplant? Explain\n",
    "your reasoning.\n",
    "- (b) What do the box plots below suggest about the efficacy (effectiveness) of the heart transplant treatment.\n",
    "- (c) What proportion of patients in the treatment group and what proportion of patients in the control groupdied?\n"
   ]
  },
  {
   "cell_type": "code",
   "execution_count": null,
   "metadata": {
    "editable": false
   },
   "outputs": [],
   "source": [
    "heart<- read.csv(\"https://www.openintro.org/data/csv/heart_transplant.csv\") \n",
    "par(mfrow=c(1,2))\n",
    "mosaicplot(table(heart$transplant,heart$survived),color=TRUE,main=\"\")\n",
    "boxplot(heart$survtime~heart$transplant,xlab=\"\",ylab=\"Survival Time (days)\")"
   ]
  },
  {
   "cell_type": "markdown",
   "metadata": {},
   "source": [
    "### Answer 3a)\n",
    "\n",
    "(Type here)"
   ]
  },
  {
   "cell_type": "markdown",
   "metadata": {},
   "source": [
    "### Answer 3b)\n",
    "\n",
    "(Type here)"
   ]
  },
  {
   "cell_type": "markdown",
   "metadata": {},
   "source": [
    "### Answer 3c)\n",
    "\n",
    "(Type here)"
   ]
  },
  {
   "cell_type": "markdown",
   "metadata": {
    "editable": false
   },
   "source": [
    "## Question 4  (Openintro 3.10 Guessing on an exam). \n",
    "\n",
    "\n",
    "In a multiple choice exam, there are 5 questions and 4 choices for each\n",
    "question (a, b, c, d). Nancy has not studied for the exam at all and decides to randomly guess the answers.\n",
    "\n",
    "\n",
    "What is the probability that:\n",
    "- (a) the first question she gets right is the 5th question?\n",
    "- (b) she gets all of the questions right?\n",
    "- (c) she gets at least one question right?\n",
    "\n",
    "You should show your work and use P for probabilities, you can use a code block as a calculator."
   ]
  },
  {
   "cell_type": "code",
   "execution_count": null,
   "metadata": {},
   "outputs": [],
   "source": []
  },
  {
   "cell_type": "markdown",
   "metadata": {},
   "source": [
    "### Answer 4a)\n",
    "\n",
    "(Type here)"
   ]
  },
  {
   "cell_type": "markdown",
   "metadata": {},
   "source": [
    "### Answer 3b)\n",
    "\n",
    "(Type here)"
   ]
  },
  {
   "cell_type": "markdown",
   "metadata": {},
   "source": [
    "### Answer 3c)\n",
    "\n",
    "(Type here)"
   ]
  },
  {
   "cell_type": "markdown",
   "metadata": {
    "editable": false
   },
   "source": [
    "## Question 5    (Openintro 3.12 School absences.)\n",
    "\n",
    "Data collected at elementary schools in DeKalb County, GA suggest that each\n",
    "year roughly 25% of students miss exactly one day of school, 15% miss 2 days, and 28% miss 3 or more days\n",
    "due to sickness.\n",
    "\n",
    "\n",
    "- (a) What is the probability that a student chosen at random doesn't miss any days of school due to sickness\n",
    "this year?\n",
    "- (b) What is the probability that a student chosen at random misses no more than one day?\n",
    "- (c) What is the probability that a student chosen at random misses at least one day?\n",
    "- (d) If a parent has two kids at a DeKalb County elementary school, what is the probability that neither kid\n",
    "will miss any school? Note any assumption you must make to answer this question.\n",
    "- (e) If a parent has two kids at a DeKalb County elementary school, what is the probability that both kids\n",
    "will miss some school, i.e. at least one day? Note any assumption you make.\n",
    "- (f) If you made an assumption in part (d) or (e), do you think it was reasonable? If you didn't make any\n",
    "assumptions, double check your earlier answers.\n"
   ]
  },
  {
   "cell_type": "markdown",
   "metadata": {},
   "source": [
    "### Answer 5a)\n",
    "\n",
    "(Type here)"
   ]
  },
  {
   "cell_type": "markdown",
   "metadata": {},
   "source": [
    "### Answer 5b)\n",
    "\n",
    "(Type here)"
   ]
  },
  {
   "cell_type": "markdown",
   "metadata": {},
   "source": [
    "### Answer 5c)\n",
    "\n",
    "(Type here)"
   ]
  },
  {
   "cell_type": "markdown",
   "metadata": {},
   "source": [
    "### Answer 5d)\n",
    "\n",
    "(Type here)"
   ]
  },
  {
   "cell_type": "markdown",
   "metadata": {},
   "source": [
    "### Answer 5e)\n",
    "\n",
    "(Type here)"
   ]
  },
  {
   "cell_type": "markdown",
   "metadata": {
    "editable": false
   },
   "source": [
    "### Make sure you have answered all of the questions with complete explanations.\n",
    "\n",
    "### When you are done please download a copy as HTML and upload your response to turnitin."
   ]
  },
  {
   "cell_type": "markdown",
   "metadata": {
    "editable": false
   },
   "source": [
    "---\n",
    "\n",
    "Some of these questions come from `openintrostatistics` this book and the data set is avaliable at `openintro.org`"
   ]
  }
 ],
 "metadata": {
  "celltoolbar": "Edit Metadata",
  "kernelspec": {
   "display_name": "R",
   "language": "R",
   "name": "ir"
  },
  "language_info": {
   "codemirror_mode": "r",
   "file_extension": ".r",
   "mimetype": "text/x-r-source",
   "name": "R",
   "pygments_lexer": "r",
   "version": "3.6.1"
  }
 },
 "nbformat": 4,
 "nbformat_minor": 2
}
